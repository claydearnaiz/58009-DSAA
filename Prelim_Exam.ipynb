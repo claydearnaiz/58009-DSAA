{
  "nbformat": 4,
  "nbformat_minor": 0,
  "metadata": {
    "colab": {
      "provenance": [],
      "authorship_tag": "ABX9TyODcLb9xKyW2XN+qMT99SpF",
      "include_colab_link": true
    },
    "kernelspec": {
      "name": "python3",
      "display_name": "Python 3"
    },
    "language_info": {
      "name": "python"
    }
  },
  "cells": [
    {
      "cell_type": "markdown",
      "metadata": {
        "id": "view-in-github",
        "colab_type": "text"
      },
      "source": [
        "<a href=\"https://colab.research.google.com/github/claydearnaiz/58009-DSAA/blob/main/Prelim_Exam.ipynb\" target=\"_parent\"><img src=\"https://colab.research.google.com/assets/colab-badge.svg\" alt=\"Open In Colab\"/></a>"
      ]
    },
    {
      "cell_type": "code",
      "execution_count": 4,
      "metadata": {
        "colab": {
          "base_uri": "https://localhost:8080/"
        },
        "id": "o2yFvZjf6Yae",
        "outputId": "646dbadc-4041-46fc-959e-56646e328937"
      },
      "outputs": [
        {
          "output_type": "stream",
          "name": "stdout",
          "text": [
            "Sum of the numbers: 397\n",
            "Sorted List: [26, 49, 62, 75, 87, 98]\n"
          ]
        }
      ],
      "source": [
        "test_scores = [26, 49, 98, 87, 62, 75]\n",
        "total = 0\n",
        "\n",
        "\n",
        "# Adding the total score in the array\n",
        "for total_score in test_scores:\n",
        "  total += total_score\n",
        "\n",
        "print(\"Sum of the numbers:\", total)\n",
        "\n",
        "\n",
        "# Sorting it to ascending order\n",
        "test_scores.sort()\n",
        "print(\"Sorted List:\", test_scores)"
      ]
    }
  ]
}