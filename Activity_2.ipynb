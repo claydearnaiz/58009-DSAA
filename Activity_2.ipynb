{
  "nbformat": 4,
  "nbformat_minor": 0,
  "metadata": {
    "colab": {
      "provenance": [],
      "authorship_tag": "ABX9TyP948B/19hdTh3u3zFXp0LS",
      "include_colab_link": true
    },
    "kernelspec": {
      "name": "python3",
      "display_name": "Python 3"
    },
    "language_info": {
      "name": "python"
    }
  },
  "cells": [
    {
      "cell_type": "markdown",
      "metadata": {
        "id": "view-in-github",
        "colab_type": "text"
      },
      "source": [
        "<a href=\"https://colab.research.google.com/github/claydearnaiz/58009-DSAA/blob/main/Activity_2.ipynb\" target=\"_parent\"><img src=\"https://colab.research.google.com/assets/colab-badge.svg\" alt=\"Open In Colab\"/></a>"
      ]
    },
    {
      "cell_type": "code",
      "execution_count": 66,
      "metadata": {
        "colab": {
          "base_uri": "https://localhost:8080/"
        },
        "id": "a6cG-JLAXFzm",
        "outputId": "96adefd0-9c10-4bdd-c5a8-430d0a0af9be"
      },
      "outputs": [
        {
          "output_type": "stream",
          "name": "stdout",
          "text": [
            "The Prime numbers that are less than 20:\n",
            "2 3 5 7 11 13 17 19 \n",
            "The Head of the list: 2\n",
            "The Tail of the list: 19\n"
          ]
        }
      ],
      "source": [
        "def prime_number(num):\n",
        "    if num < 2:\n",
        "      return False\n",
        "    else:\n",
        "      for n in range(2, num):\n",
        "           if num % n == 0:\n",
        "             return False\n",
        "      return True\n",
        "\n",
        "class Node:\n",
        "    def __init__(self, data):\n",
        "        self.data = data\n",
        "        self.next = None\n",
        "\n",
        "class LinkedList:\n",
        "    def __init__(self):\n",
        "        self.head = None\n",
        "        self.tail = None\n",
        "\n",
        "    def append(self, data):\n",
        "        new_node = Node(data)\n",
        "        if self.head is None:\n",
        "            self.head = new_node\n",
        "            self.tail = new_node\n",
        "        else:\n",
        "            self.tail.next = new_node\n",
        "            self.tail = new_node\n",
        "\n",
        "    def display(self):\n",
        "        current = self.head\n",
        "        while(current):\n",
        "            print(current.data, end=\" \")\n",
        "            current = current.next\n",
        "        print()\n",
        "\n",
        "def main():\n",
        "    prime_list = LinkedList()\n",
        "    for num in range(2, 20):\n",
        "        if prime_number(num):\n",
        "            prime_list.append(num)\n",
        "\n",
        "    print(\"The Prime numbers that are less than 20:\")\n",
        "    prime_list.display()\n",
        "    print(\"The Head of the list:\", prime_list.head.data)\n",
        "    print(\"The Tail of the list:\", prime_list.tail.data)\n",
        "\n",
        "if __name__ == \"__main__\":\n",
        "    main()\n"
      ]
    }
  ]
}