{
  "nbformat": 4,
  "nbformat_minor": 0,
  "metadata": {
    "colab": {
      "provenance": [],
      "authorship_tag": "ABX9TyMjTNgRGr5/HBX4sOn37tld",
      "include_colab_link": true
    },
    "kernelspec": {
      "name": "python3",
      "display_name": "Python 3"
    },
    "language_info": {
      "name": "python"
    }
  },
  "cells": [
    {
      "cell_type": "markdown",
      "metadata": {
        "id": "view-in-github",
        "colab_type": "text"
      },
      "source": [
        "<a href=\"https://colab.research.google.com/github/claydearnaiz/58009-DSAA/blob/main/Long_Quiz_1.ipynb\" target=\"_parent\"><img src=\"https://colab.research.google.com/assets/colab-badge.svg\" alt=\"Open In Colab\"/></a>"
      ]
    },
    {
      "cell_type": "code",
      "execution_count": 62,
      "metadata": {
        "colab": {
          "base_uri": "https://localhost:8080/"
        },
        "id": "XhcEjBWM0E0B",
        "outputId": "e963dc19-83c3-4a78-a78d-3ab5529fc099"
      },
      "outputs": [
        {
          "output_type": "stream",
          "name": "stdout",
          "text": [
            "Enter a letter of your name (Type 'end' if you are finished writing the letters of your name): C\n",
            "Enter a letter of your name (Type 'end' if you are finished writing the letters of your name): L\n",
            "Enter a letter of your name (Type 'end' if you are finished writing the letters of your name): A\n",
            "Enter a letter of your name (Type 'end' if you are finished writing the letters of your name): Y\n",
            "Enter a letter of your name (Type 'end' if you are finished writing the letters of your name): D\n",
            "Enter a letter of your name (Type 'end' if you are finished writing the letters of your name): E\n",
            "Enter a letter of your name (Type 'end' if you are finished writing the letters of your name):  \n",
            "Enter a letter of your name (Type 'end' if you are finished writing the letters of your name): A\n",
            "Enter a letter of your name (Type 'end' if you are finished writing the letters of your name): R\n",
            "Enter a letter of your name (Type 'end' if you are finished writing the letters of your name): N\n",
            "Enter a letter of your name (Type 'end' if you are finished writing the letters of your name): A\n",
            "Enter a letter of your name (Type 'end' if you are finished writing the letters of your name): I\n",
            "Enter a letter of your name (Type 'end' if you are finished writing the letters of your name): Z\n",
            "Enter a letter of your name (Type 'end' if you are finished writing the letters of your name): end\n",
            "Entered name: CLAYDE ARNAIZ\n",
            "Reversed Name: ZIANRA EDYALC\n"
          ]
        }
      ],
      "source": [
        "name = []\n",
        "\n",
        "while True:\n",
        "  letter = input(\"Enter a letter of your name (Type 'end' if you are finished writing the letters of your name): \")\n",
        "  if letter == 'end':\n",
        "    break\n",
        "  name.append(letter)\n",
        "\n",
        "your_name = ''.join(name)\n",
        "\n",
        "print(\"Entered name:\", your_name)\n",
        "print(\"Reversed Name:\", your_name[::-1])"
      ]
    },
    {
      "cell_type": "code",
      "source": [
        "set_of_numbers = [1, 2, 3, 4, 5, 6, 7, 8, 9, 10]\n",
        "\n",
        "print(\"Set of Numbers: \", set_of_numbers)\n",
        "\n",
        "for num in set_of_numbers:\n",
        "    if num < 2:\n",
        "        print(f\"{num} is neither a Prime or Composite Number\")\n",
        "    else:\n",
        "        is_composite = False\n",
        "        for n in range(2, num):\n",
        "          if num % n == 0:\n",
        "            is_composite = True\n",
        "            break\n",
        "        if is_composite:\n",
        "          print(f\"{num} is a Composite Number\")\n",
        "        else:\n",
        "          print(f\"{num} is a Prime Number\")\n"
      ],
      "metadata": {
        "colab": {
          "base_uri": "https://localhost:8080/"
        },
        "id": "_zTdNG-RMEfc",
        "outputId": "6a15a72e-4f94-4ac3-eda2-f24af0d6f557"
      },
      "execution_count": 74,
      "outputs": [
        {
          "output_type": "stream",
          "name": "stdout",
          "text": [
            "Set of Numbers:  [1, 2, 3, 4, 5, 6, 7, 8, 9, 10]\n",
            "1 is neither a Prime or Composite Number\n",
            "2 is a Prime Number\n",
            "3 is a Prime Number\n",
            "4 is a Composite Number\n",
            "5 is a Prime Number\n",
            "6 is a Composite Number\n",
            "7 is a Prime Number\n",
            "8 is a Composite Number\n",
            "9 is a Composite Number\n",
            "10 is a Composite Number\n"
          ]
        }
      ]
    }
  ]
}