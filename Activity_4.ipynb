{
  "nbformat": 4,
  "nbformat_minor": 0,
  "metadata": {
    "colab": {
      "provenance": [],
      "authorship_tag": "ABX9TyNogFOKzsmtVF7P9qaKLfeK",
      "include_colab_link": true
    },
    "kernelspec": {
      "name": "python3",
      "display_name": "Python 3"
    },
    "language_info": {
      "name": "python"
    }
  },
  "cells": [
    {
      "cell_type": "markdown",
      "metadata": {
        "id": "view-in-github",
        "colab_type": "text"
      },
      "source": [
        "<a href=\"https://colab.research.google.com/github/claydearnaiz/58009-DSAA/blob/main/Activity_4.ipynb\" target=\"_parent\"><img src=\"https://colab.research.google.com/assets/colab-badge.svg\" alt=\"Open In Colab\"/></a>"
      ]
    },
    {
      "cell_type": "code",
      "execution_count": 5,
      "metadata": {
        "id": "0sLapnz7pKHQ",
        "colab": {
          "base_uri": "https://localhost:8080/"
        },
        "outputId": "d08b0b76-82d2-4663-ec90-a17bcf8f2b0f"
      },
      "outputs": [
        {
          "output_type": "stream",
          "name": "stdout",
          "text": [
            "['A', 'B', 'C']\n",
            "A\n",
            "B\n",
            "C\n",
            "[]\n"
          ]
        }
      ],
      "source": [
        "queue = []\n",
        "\n",
        "#inqueue items in to queue\n",
        "queue.append('A')\n",
        "queue.append('B')\n",
        "queue.append('C')\n",
        "print(queue)\n",
        "\n",
        "#dequeue items from the queue\n",
        "print (queue.pop(0))\n",
        "print (queue.pop(0))\n",
        "print (queue.pop(0))\n",
        "print(queue)"
      ]
    },
    {
      "cell_type": "code",
      "source": [
        "cart = deque()\n",
        "\n",
        "print (\"  Hello User! Welcome to CNA Fruit Shop \")\n",
        "print (\"We are currently Selling Apples, Bananas, Mangos and Grapes\")\n",
        "\n",
        "while True:\n",
        "    action = input(\"Type 'add' to ADD an item, 'remove' to REMOVE, 'show' to SHOW your Cart, or 'exit' to EXIT: \").lower() # Lower makes it that you can type it in CAPS and it will still make it all lower cases\n",
        "\n",
        "    if action == 'exit': # If the user types exit\n",
        "        break\n",
        "    elif action == 'add': # If the user types add\n",
        "        item = input(\"Enter the item that you want to your cart: \")\n",
        "        cart.append(item)  # Add the item to your cart\n",
        "        print(f\"Added: {item}\")\n",
        "    elif action == 'remove': # If the user types remokve\n",
        "        if cart:\n",
        "            removed_item = cart.popleft()  # Remove item from the left of yourMG cart\n",
        "            print(f\"Removed: {removed_item}\") # Prints what item you have removed\n",
        "        else:\n",
        "            print(\"The list is empty.\")\n",
        "    elif action == 'show': # If the user types show, This will show the current items inside your cart\n",
        "        if cart:\n",
        "            print(\"Grocery List:\")\n",
        "            for item in cart:\n",
        "                print(item)\n",
        "        else:\n",
        "            print(\"The list is empty.\")\n",
        "    else:\n",
        "        print(\"Invalid action\")\n"
      ],
      "metadata": {
        "colab": {
          "base_uri": "https://localhost:8080/"
        },
        "id": "At4rktKNzwMa",
        "outputId": "c4d8e06d-5139-4591-afe5-bfd10cc3f9ca"
      },
      "execution_count": 54,
      "outputs": [
        {
          "name": "stdout",
          "output_type": "stream",
          "text": [
            "  Hello User! Welcome to CNA Fruit Shop\n",
            "We are currently Selling Apples, Bananas, Mangos and Grapes\n",
            "Type 'add' to ADD an item, 'remove' to REMOVE, 'show' to SHOW your Cart, or 'exit' to EXIT: add\n",
            "Enter the item that you want to your cart: Apple\n",
            "Added: Apple\n",
            "Type 'add' to ADD an item, 'remove' to REMOVE, 'show' to SHOW your Cart, or 'exit' to EXIT: add\n",
            "Enter the item that you want to your cart: Banana\n",
            "Added: Banana\n",
            "Type 'add' to ADD an item, 'remove' to REMOVE, 'show' to SHOW your Cart, or 'exit' to EXIT: add\n",
            "Enter the item that you want to your cart: Mango\n",
            "Added: Mango\n",
            "Type 'add' to ADD an item, 'remove' to REMOVE, 'show' to SHOW your Cart, or 'exit' to EXIT: add\n",
            "Enter the item that you want to your cart: Grapes\n",
            "Added: Grapes\n",
            "Type 'add' to ADD an item, 'remove' to REMOVE, 'show' to SHOW your Cart, or 'exit' to EXIT: show\n",
            "Grocery List:\n",
            "Apple\n",
            "Banana\n",
            "Mango\n",
            "Grapes\n",
            "Type 'add' to ADD an item, 'remove' to REMOVE, 'show' to SHOW your Cart, or 'exit' to EXIT: remove\n",
            "Removed: Apple\n",
            "Type 'add' to ADD an item, 'remove' to REMOVE, 'show' to SHOW your Cart, or 'exit' to EXIT: remove\n",
            "Removed: Banana\n",
            "Type 'add' to ADD an item, 'remove' to REMOVE, 'show' to SHOW your Cart, or 'exit' to EXIT: remove\n",
            "Removed: Mango\n",
            "Type 'add' to ADD an item, 'remove' to REMOVE, 'show' to SHOW your Cart, or 'exit' to EXIT: remove\n",
            "Removed: Grapes\n",
            "Type 'add' to ADD an item, 'remove' to REMOVE, 'show' to SHOW your Cart, or 'exit' to EXIT: exit\n"
          ]
        }
      ]
    }
  ]
}