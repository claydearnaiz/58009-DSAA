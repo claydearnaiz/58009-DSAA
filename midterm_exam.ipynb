{
  "nbformat": 4,
  "nbformat_minor": 0,
  "metadata": {
    "colab": {
      "provenance": [],
      "authorship_tag": "ABX9TyNSY3vTOTs5TPgZfg4qYGzC",
      "include_colab_link": true
    },
    "kernelspec": {
      "name": "python3",
      "display_name": "Python 3"
    },
    "language_info": {
      "name": "python"
    }
  },
  "cells": [
    {
      "cell_type": "markdown",
      "metadata": {
        "id": "view-in-github",
        "colab_type": "text"
      },
      "source": [
        "<a href=\"https://colab.research.google.com/github/claydearnaiz/58009-DSAA/blob/main/midterm_exam.ipynb\" target=\"_parent\"><img src=\"https://colab.research.google.com/assets/colab-badge.svg\" alt=\"Open In Colab\"/></a>"
      ]
    },
    {
      "cell_type": "code",
      "execution_count": 8,
      "metadata": {
        "colab": {
          "base_uri": "https://localhost:8080/"
        },
        "id": "A2OcAqaoHuuX",
        "outputId": "ab966005-6ff2-43b6-cf82-fa02fda02674"
      },
      "outputs": [
        {
          "output_type": "stream",
          "name": "stdout",
          "text": [
            "[{'A', 'B'}, {'B', 'C'}, {'B', 'E'}, {'F', 'B'}, {'C', 'D'}, {'C', 'E'}, {'F', 'C'}, {'C', 'I'}, {'M', 'C'}, {'K', 'D'}, {'L', 'D'}, {'N', 'E'}, {'G', 'F'}, {'F', 'I'}, {'G', 'I'}, {'G', 'J'}, {'J', 'I'}, {'K', 'I'}, {'J', 'K'}, {'M', 'L'}, {'L', 'P'}, {'M', 'N'}, {'M', 'O'}, {'N', 'O'}, {'P', 'O'}, {'M', 'P'}]\n"
          ]
        }
      ],
      "source": [
        "class graph:\n",
        "   def __init__(self,gdict=None):\n",
        "      if gdict is None:\n",
        "         gdict = {}\n",
        "      self.gdict = gdict\n",
        "\n",
        "   def edges(self):\n",
        "      return self.findedges()\n",
        "\n",
        "   def findedges(self):\n",
        "      edgename = []\n",
        "      for vrtx in self.gdict:\n",
        "         for nxtvrtx in self.gdict[vrtx]:\n",
        "            if {nxtvrtx, vrtx} not in edgename:\n",
        "               edgename.append({vrtx, nxtvrtx})\n",
        "      return edgename\n",
        "\n",
        "graph_elements = {\n",
        "  'A' : ['B'],\n",
        "  'B' : ['A', 'C', 'E', 'F'],\n",
        "  'C' : ['B', 'D', 'E', 'F', 'I', 'M'],\n",
        "  'D' : ['C', 'K', 'L'],\n",
        "  'E' : ['B', 'C', 'N'],\n",
        "  'F' : ['B', 'C', 'G', 'I'],\n",
        "  'G' : ['F', 'I', 'J'],\n",
        "  'I' : ['C', 'F', 'G', 'J', 'K'],\n",
        "  'J' : ['G', 'I', 'K'],\n",
        "  'K' : ['D', 'I', 'J'],\n",
        "  'L' : ['D', 'M', 'P'],\n",
        "  'M' : ['L', 'N', 'O'],\n",
        "  'N' : ['E', 'M', 'O'],\n",
        "  'O' : ['M', 'N', 'P'],\n",
        "  'P' : ['L', 'M', 'O']\n",
        "}\n",
        "\n",
        "g = graph(graph_elements)\n",
        "print(g.edges())"
      ]
    },
    {
      "cell_type": "code",
      "source": [
        "class graph:\n",
        "   def __init__(self,gdict=None):\n",
        "      if gdict is None:\n",
        "         gdict = []\n",
        "      self.gdict = gdict\n",
        "\n",
        "   def getVertices(self):\n",
        "      return list(self.gdict.keys())\n",
        "\n",
        "graph_elements = {\n",
        "  'A' : ['B'],\n",
        "  'B' : ['A', 'C', 'E', 'F'],\n",
        "  'C' : ['B', 'D', 'E', 'F', 'I', 'M'],\n",
        "  'D' : ['C', 'K', 'L'],\n",
        "  'E' : ['B', 'C', 'N'],\n",
        "  'F' : ['B', 'C', 'G', 'I'],\n",
        "  'G' : ['F', 'I', 'J'],\n",
        "  'I' : ['C', 'F', 'G', 'J', 'K'],\n",
        "  'J' : ['G', 'I', 'K'],\n",
        "  'K' : ['D', 'I', 'J'],\n",
        "  'L' : ['D', 'M', 'P'],\n",
        "  'M' : ['L', 'N', 'O'],\n",
        "  'N' : ['E', 'M', 'O'],\n",
        "  'O' : ['M', 'N', 'P'],\n",
        "  'P' : ['L', 'M', 'O']\n",
        "}\n",
        "\n",
        "g = graph(graph_elements)\n",
        "print(g.getVertices())"
      ],
      "metadata": {
        "colab": {
          "base_uri": "https://localhost:8080/"
        },
        "id": "-NNXsBNGQzgc",
        "outputId": "74be7b88-bb85-45db-e098-86193bb76077"
      },
      "execution_count": 7,
      "outputs": [
        {
          "output_type": "stream",
          "name": "stdout",
          "text": [
            "['A', 'B', 'C', 'D', 'E', 'F', 'G', 'I', 'J', 'K', 'L', 'M', 'N', 'O', 'P']\n"
          ]
        }
      ]
    }
  ]
}