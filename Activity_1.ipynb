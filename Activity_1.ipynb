{
  "nbformat": 4,
  "nbformat_minor": 0,
  "metadata": {
    "colab": {
      "provenance": [],
      "authorship_tag": "ABX9TyM92csjZHZFcfQKK89syASx",
      "include_colab_link": true
    },
    "kernelspec": {
      "name": "python3",
      "display_name": "Python 3"
    },
    "language_info": {
      "name": "python"
    }
  },
  "cells": [
    {
      "cell_type": "markdown",
      "metadata": {
        "id": "view-in-github",
        "colab_type": "text"
      },
      "source": [
        "<a href=\"https://colab.research.google.com/github/claydearnaiz/58009-DSAA/blob/main/Activity_1.ipynb\" target=\"_parent\"><img src=\"https://colab.research.google.com/assets/colab-badge.svg\" alt=\"Open In Colab\"/></a>"
      ]
    },
    {
      "cell_type": "markdown",
      "source": [
        "1. Write a Python program to create an array of 10 integers and display the array items. Access individual elements through indexes and compute for the sum."
      ],
      "metadata": {
        "id": "ETRq2cpygFwh"
      }
    },
    {
      "cell_type": "code",
      "execution_count": 46,
      "metadata": {
        "colab": {
          "base_uri": "https://localhost:8080/"
        },
        "id": "W1CL0ikSe-cV",
        "outputId": "2b97bb15-b2ab-433c-ff61-517b4ea873de"
      },
      "outputs": [
        {
          "output_type": "stream",
          "name": "stdout",
          "text": [
            "Array: [15, 21, 23, 14, 55, 26, 37, 18, 9, 30]\n",
            "Indices and their Index Value:\n",
            "0 = 15\n",
            "1 = 21\n",
            "2 = 23\n",
            "3 = 14\n",
            "4 = 55\n",
            "5 = 26\n",
            "6 = 37\n",
            "7 = 18\n",
            "8 = 9\n",
            "9 = 30\n",
            "The Sum of the Elements: 248\n"
          ]
        }
      ],
      "source": [
        "arr = [15, 21, 23, 14, 55, 26, 37, 18, 9, 30]\n",
        "sum = 0\n",
        "\n",
        "print(\"Array:\", arr)\n",
        "print(\"Indices and their Index Value:\")\n",
        "\n",
        "for i in range(len(arr)):\n",
        "    print(i, \"=\", arr[i])\n",
        "\n",
        "for x in arr:\n",
        "    sum += x\n",
        "\n",
        "print(\"The Sum of the Elements:\", sum)\n",
        "\n"
      ]
    },
    {
      "cell_type": "markdown",
      "source": [
        "Write a Python program to append a new item to the end of the array. Original array: numbers = [1, 2, 3, 4, 5, 6, 7, 8, 9, 10]"
      ],
      "metadata": {
        "id": "wo-i8tyTgK16"
      }
    },
    {
      "cell_type": "code",
      "source": [
        "numbers = [1, 2, 3, 4, 5, 6, 7, 8, 9, 10]\n",
        "numbers.append(11)\n",
        "print(numbers)"
      ],
      "metadata": {
        "colab": {
          "base_uri": "https://localhost:8080/"
        },
        "id": "KlnjO2WngKki",
        "outputId": "2ca46c4d-3a2f-4cb0-a61a-9c770e4ceea1"
      },
      "execution_count": 10,
      "outputs": [
        {
          "output_type": "stream",
          "name": "stdout",
          "text": [
            "[1, 2, 3, 4, 5, 6, 7, 8, 9, 10, 11]\n"
          ]
        }
      ]
    },
    {
      "cell_type": "markdown",
      "source": [
        "3. Write a Python program to insert a new item before the second element in an existing array. Original array: numbers = [1, 2, 3, 4, 5, 6, 7, 8, 9, 10]"
      ],
      "metadata": {
        "id": "XqW5-XSTgM8R"
      }
    },
    {
      "cell_type": "code",
      "source": [
        "numbers = [1, 2, 3, 4, 5, 6, 7, 8, 9, 10]\n",
        "numbers.insert(1, 11)\n",
        "print(numbers)"
      ],
      "metadata": {
        "colab": {
          "base_uri": "https://localhost:8080/"
        },
        "id": "hznR79lxgUrQ",
        "outputId": "8c77852b-ae1e-42a4-9031-6b0f0639288e"
      },
      "execution_count": 12,
      "outputs": [
        {
          "output_type": "stream",
          "name": "stdout",
          "text": [
            "[1, 11, 2, 3, 4, 5, 6, 7, 8, 9, 10]\n"
          ]
        }
      ]
    },
    {
      "cell_type": "markdown",
      "source": [
        "4. Write a Python program to reverse the order of the items in the array.Original array: numbers = [5, 4, 3, 2, 1]"
      ],
      "metadata": {
        "id": "6_wxdwLogNQK"
      }
    },
    {
      "cell_type": "code",
      "source": [
        " numbers = [5, 4, 3, 2, 1]\n",
        " numbers.reverse()\n",
        " print(numbers)"
      ],
      "metadata": {
        "colab": {
          "base_uri": "https://localhost:8080/"
        },
        "id": "Uo_lD13SgVQw",
        "outputId": "8a286b74-7ce4-402d-dd7c-e18755ff743f"
      },
      "execution_count": 13,
      "outputs": [
        {
          "output_type": "stream",
          "name": "stdout",
          "text": [
            "[1, 2, 3, 4, 5]\n"
          ]
        }
      ]
    },
    {
      "cell_type": "markdown",
      "source": [
        "5. Write a Python program to get the length of the array. Original array: numbers = [5, 4, 3, 2, 1]"
      ],
      "metadata": {
        "id": "9IteZTzCgNgJ"
      }
    },
    {
      "cell_type": "code",
      "source": [
        " numbers = [5, 4, 3, 2, 1]\n",
        " x = len(numbers)\n",
        " print(x)"
      ],
      "metadata": {
        "colab": {
          "base_uri": "https://localhost:8080/"
        },
        "id": "nrmCYzMLgVzQ",
        "outputId": "b57ba411-a448-4338-b190-ec4a375eb50d"
      },
      "execution_count": 15,
      "outputs": [
        {
          "output_type": "stream",
          "name": "stdout",
          "text": [
            "5\n"
          ]
        }
      ]
    }
  ]
}